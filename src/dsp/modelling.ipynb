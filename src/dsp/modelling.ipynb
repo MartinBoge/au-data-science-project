{
 "cells": [
  {
   "cell_type": "code",
   "execution_count": 1,
   "metadata": {},
   "outputs": [],
   "source": [
    "#Libraries\n",
    "import pandas as pd\n",
    "import numpy as np\n",
    "from etl.utils import read_sql_table\n",
    "from sklearn.model_selection import train_test_split\n",
    "from sklearn.linear_model import LinearRegression\n",
    "from sklearn.ensemble import RandomForestClassifier\n",
    "from sklearn.svm import SVC\n",
    "from sklearn.metrics import mean_squared_error\n",
    "from sklearn.preprocessing import StandardScaler\n",
    "import statsmodels.api as sm"
   ]
  },
  {
   "cell_type": "code",
   "execution_count": 27,
   "metadata": {},
   "outputs": [
    {
     "name": "stdout",
     "output_type": "stream",
     "text": [
      "   hour  consumption_kwh  spot_price_dkk  temp_mean_past1h  wind_speed_past1h  humidity_past1h  precip_past1h\n",
      "0   0.0       143408.914      383.950012               5.2                3.7             88.0            0.0\n",
      "1   1.0       136154.493      387.230011               4.5                3.9             91.0            0.0\n",
      "2   2.0       130648.111      386.929993               3.8                4.0             93.0            0.0\n",
      "3   3.0       126554.756      387.829987               3.2                4.2             95.0            0.0\n",
      "4   4.0       131530.892      391.480011               3.3                4.1             96.0            0.0 \n",
      "\n",
      "<class 'pandas.core.frame.DataFrame'>\n",
      "RangeIndex: 647 entries, 0 to 646\n",
      "Data columns (total 7 columns):\n",
      " #   Column             Non-Null Count  Dtype  \n",
      "---  ------             --------------  -----  \n",
      " 0   hour               647 non-null    float64\n",
      " 1   consumption_kwh    647 non-null    float64\n",
      " 2   spot_price_dkk     647 non-null    float64\n",
      " 3   temp_mean_past1h   647 non-null    float64\n",
      " 4   wind_speed_past1h  647 non-null    float64\n",
      " 5   humidity_past1h    647 non-null    float64\n",
      " 6   precip_past1h      647 non-null    float64\n",
      "dtypes: float64(7)\n",
      "memory usage: 35.5 KB\n",
      "None\n"
     ]
    }
   ],
   "source": [
    "df = read_sql_table(\"gold_cpw\")\n",
    "\n",
    "###Variable manipulation\n",
    "# Convert HourDK to datetime if it's not already in datetime format\n",
    "df['hour_utc'] = pd.to_datetime(df['hour_utc'])\n",
    "\n",
    "# Extract the hour from the HourDK column\n",
    "df['hour'] = df['hour_utc'].dt.hour\n",
    "\n",
    "#Subsetting variables\n",
    "df = df[['hour', 'consumption_kwh', 'spot_price_dkk', 'temp_mean_past1h', 'wind_speed_past1h',\n",
    "    'humidity_past1h', 'precip_past1h']]\n",
    "#Converting variables to float64\n",
    "df['hour'] = df['hour'].astype('float64')\n",
    "df['spot_price_dkk'] = df['spot_price_dkk'].astype('float64')\n",
    "\n",
    "print(df.head().to_string(), \"\\n\")\n",
    "print(df.info())"
   ]
  },
  {
   "cell_type": "code",
   "execution_count": 28,
   "metadata": {},
   "outputs": [
    {
     "name": "stdout",
     "output_type": "stream",
     "text": [
      "hour                 False\n",
      "consumption_kwh      False\n",
      "spot_price_dkk       False\n",
      "temp_mean_past1h     False\n",
      "wind_speed_past1h    False\n",
      "humidity_past1h      False\n",
      "precip_past1h        False\n",
      "dtype: bool\n"
     ]
    }
   ],
   "source": [
    "##Checking for missing values\n",
    "print(df.isna().any())\n",
    "#No missing values"
   ]
  },
  {
   "cell_type": "code",
   "execution_count": 29,
   "metadata": {},
   "outputs": [
    {
     "name": "stdout",
     "output_type": "stream",
     "text": [
      "     hour  spot_price_dkk  temp_mean_past1h  wind_speed_past1h  \\\n",
      "171   3.0      494.239990              -1.0                1.1   \n",
      "477  21.0      716.400024               4.6                1.4   \n",
      "249   9.0      461.429993               2.4                6.2   \n",
      "574  22.0      469.649994               4.1                2.0   \n",
      "185  17.0      624.400024               0.1                1.7   \n",
      "..    ...             ...               ...                ...   \n",
      "98    2.0      420.089996               2.4                4.5   \n",
      "322  10.0      371.649994               8.7                5.2   \n",
      "382  22.0      422.209991               1.5                3.3   \n",
      "365   5.0      352.410004               5.7                4.4   \n",
      "510   6.0      477.450012               6.9                4.2   \n",
      "\n",
      "     humidity_past1h  precip_past1h  \n",
      "171             97.0            0.0  \n",
      "477             99.0            0.0  \n",
      "249             83.0            0.0  \n",
      "574             97.0            0.1  \n",
      "185             96.0            0.0  \n",
      "..               ...            ...  \n",
      "98              80.0            0.0  \n",
      "322             94.0            0.0  \n",
      "382             78.0            0.0  \n",
      "365             92.0            0.0  \n",
      "510             96.0            0.0  \n",
      "\n",
      "[517 rows x 6 columns]\n"
     ]
    }
   ],
   "source": [
    "##Splitting dataset\n",
    "X = df[['hour', 'spot_price_dkk', 'temp_mean_past1h', 'wind_speed_past1h', 'humidity_past1h', 'precip_past1h']]\n",
    "y = df[['consumption_kwh']]\n",
    "X_train, X_test, y_train, y_test = train_test_split(X, y, test_size=0.2, random_state=123)\n",
    "print(X_train)"
   ]
  },
  {
   "cell_type": "code",
   "execution_count": 30,
   "metadata": {},
   "outputs": [
    {
     "name": "stdout",
     "output_type": "stream",
     "text": [
      "                            OLS Regression Results                            \n",
      "==============================================================================\n",
      "Dep. Variable:        consumption_kwh   R-squared:                       0.139\n",
      "Model:                            OLS   Adj. R-squared:                  0.129\n",
      "Method:                 Least Squares   F-statistic:                     13.76\n",
      "Date:                Fri, 03 May 2024   Prob (F-statistic):           1.64e-14\n",
      "Time:                        11:02:28   Log-Likelihood:                -6404.1\n",
      "No. Observations:                 517   AIC:                         1.282e+04\n",
      "Df Residuals:                     510   BIC:                         1.285e+04\n",
      "Df Model:                           6                                         \n",
      "Covariance Type:            nonrobust                                         \n",
      "=====================================================================================\n",
      "                        coef    std err          t      P>|t|      [0.025      0.975]\n",
      "-------------------------------------------------------------------------------------\n",
      "const               2.65e+05   2.98e+04      8.908      0.000    2.07e+05    3.23e+05\n",
      "hour                482.5756    394.759      1.222      0.222    -292.978    1258.129\n",
      "spot_price_dkk      -29.8771     17.784     -1.680      0.094     -64.817       5.063\n",
      "temp_mean_past1h  -5310.6987    965.636     -5.500      0.000   -7207.813   -3413.584\n",
      "wind_speed_past1h  9762.0074   2118.299      4.608      0.000    5600.341    1.39e+04\n",
      "humidity_past1h    -787.6062    268.882     -2.929      0.004   -1315.859    -259.353\n",
      "precip_past1h      1.841e+04   1.79e+04      1.031      0.303   -1.67e+04    5.35e+04\n",
      "==============================================================================\n",
      "Omnibus:                      138.592   Durbin-Watson:                   2.022\n",
      "Prob(Omnibus):                  0.000   Jarque-Bera (JB):              346.853\n",
      "Skew:                           1.347   Prob(JB):                     4.81e-76\n",
      "Kurtosis:                       5.975   Cond. No.                     5.87e+03\n",
      "==============================================================================\n",
      "\n",
      "Notes:\n",
      "[1] Standard Errors assume that the covariance matrix of the errors is correctly specified.\n",
      "[2] The condition number is large, 5.87e+03. This might indicate that there are\n",
      "strong multicollinearity or other numerical problems.\n"
     ]
    }
   ],
   "source": [
    "####Linear Regression####\n",
    "##Training and evaluating linear regression model without preprocessing\n",
    "est = sm.OLS(y_train, sm.add_constant(X_train)) #model with constant\n",
    "est_fit = est.fit()\n",
    "print(est_fit.summary()) #All but hour and precip_past1h are significant\n",
    "#In a zero-intercept model, all but precip_past1h and spot_price_dkk are significant\n"
   ]
  },
  {
   "cell_type": "code",
   "execution_count": 36,
   "metadata": {},
   "outputs": [
    {
     "name": "stdout",
     "output_type": "stream",
     "text": [
      "                            OLS Regression Results                            \n",
      "==============================================================================\n",
      "Dep. Variable:        consumption_kwh   R-squared:                       0.139\n",
      "Model:                            OLS   Adj. R-squared:                  0.129\n",
      "Method:                 Least Squares   F-statistic:                     13.76\n",
      "Date:                Fri, 03 May 2024   Prob (F-statistic):           1.64e-14\n",
      "Time:                        11:27:59   Log-Likelihood:                -6404.1\n",
      "No. Observations:                 517   AIC:                         1.282e+04\n",
      "Df Residuals:                     510   BIC:                         1.285e+04\n",
      "Df Model:                           6                                         \n",
      "Covariance Type:            nonrobust                                         \n",
      "==============================================================================\n",
      "                 coef    std err          t      P>|t|      [0.025      0.975]\n",
      "------------------------------------------------------------------------------\n",
      "const       2.006e+05   2567.816     78.117      0.000    1.96e+05    2.06e+05\n",
      "x1          3376.6799   2762.208      1.222      0.222   -2050.027    8803.386\n",
      "x2         -5152.8096   3067.238     -1.680      0.094   -1.12e+04     873.167\n",
      "x3          -1.51e+04   2745.861     -5.500      0.000   -2.05e+04   -9706.788\n",
      "x4          1.508e+04   3273.253      4.608      0.000    8653.800    2.15e+04\n",
      "x5         -8385.0982   2862.602     -2.929      0.004    -1.4e+04   -2761.155\n",
      "x6          2685.9411   2604.425      1.031      0.303   -2430.780    7802.662\n",
      "==============================================================================\n",
      "Omnibus:                      138.592   Durbin-Watson:                   2.022\n",
      "Prob(Omnibus):                  0.000   Jarque-Bera (JB):              346.853\n",
      "Skew:                           1.347   Prob(JB):                     4.81e-76\n",
      "Kurtosis:                       5.975   Cond. No.                         2.14\n",
      "==============================================================================\n",
      "\n",
      "Notes:\n",
      "[1] Standard Errors assume that the covariance matrix of the errors is correctly specified.\n"
     ]
    }
   ],
   "source": [
    "#Linear regression with scaling\n",
    "X_train_scale = StandardScaler().fit_transform(X_train)\n",
    "est = sm.OLS(y_train, sm.add_constant(X_train_scale))\n",
    "est_fit = est.fit()\n",
    "print(est_fit.summary())\n",
    "#Conclude on variable importance based on coefficients..."
   ]
  },
  {
   "cell_type": "code",
   "execution_count": 37,
   "metadata": {},
   "outputs": [
    {
     "name": "stdout",
     "output_type": "stream",
     "text": [
      "3498841479\n"
     ]
    }
   ],
   "source": [
    "###Prediction accuracy - linear regression\n",
    "X_test_scale = StandardScaler().fit_transform(X_test)\n",
    "y_pred = est_fit.predict(sm.add_constant(X_test_scale))\n",
    "mse = mean_squared_error(y_test, y_pred)\n",
    "print(round(mse)) #3498841479"
   ]
  },
  {
   "cell_type": "code",
   "execution_count": null,
   "metadata": {},
   "outputs": [],
   "source": [
    "###Random Forest\n",
    "rf_model = RandomForestClassifier()\n"
   ]
  }
 ],
 "metadata": {
  "kernelspec": {
   "display_name": ".venv",
   "language": "python",
   "name": "python3"
  },
  "language_info": {
   "codemirror_mode": {
    "name": "ipython",
    "version": 3
   },
   "file_extension": ".py",
   "mimetype": "text/x-python",
   "name": "python",
   "nbconvert_exporter": "python",
   "pygments_lexer": "ipython3",
   "version": "3.9.12"
  },
  "orig_nbformat": 4
 },
 "nbformat": 4,
 "nbformat_minor": 2
}
