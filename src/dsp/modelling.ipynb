{
 "cells": [
  {
   "cell_type": "code",
   "execution_count": 91,
   "metadata": {},
   "outputs": [],
   "source": [
    "#Libraries\n",
    "import pandas as pd\n",
    "import numpy as np\n",
    "from etl.utils import read_sql_table\n",
    "from sklearn.model_selection import train_test_split, cross_val_score\n",
    "from sklearn.linear_model import LinearRegression\n",
    "from sklearn.ensemble import RandomForestRegressor\n",
    "from sklearn.svm import SVR\n",
    "from sklearn.metrics import root_mean_squared_error\n",
    "from sklearn.preprocessing import StandardScaler\n",
    "from sklearn.pipeline import make_pipeline\n",
    "import statsmodels.api as sm"
   ]
  },
  {
   "cell_type": "code",
   "execution_count": 154,
   "metadata": {},
   "outputs": [
    {
     "name": "stdout",
     "output_type": "stream",
     "text": [
      "<class 'pandas.core.frame.DataFrame'>\n",
      "RangeIndex: 647 entries, 0 to 646\n",
      "Data columns (total 30 columns):\n",
      " #   Column             Non-Null Count  Dtype  \n",
      "---  ------             --------------  -----  \n",
      " 0   consumption_kwh    647 non-null    float64\n",
      " 1   spot_price_dkk     647 non-null    float64\n",
      " 2   temp_mean_past1h   647 non-null    float64\n",
      " 3   wind_speed_past1h  647 non-null    float64\n",
      " 4   humidity_past1h    647 non-null    float64\n",
      " 5   precip_past1h      647 non-null    float64\n",
      " 6   hour_0             647 non-null    float64\n",
      " 7   hour_1             647 non-null    float64\n",
      " 8   hour_2             647 non-null    float64\n",
      " 9   hour_3             647 non-null    float64\n",
      " 10  hour_4             647 non-null    float64\n",
      " 11  hour_5             647 non-null    float64\n",
      " 12  hour_6             647 non-null    float64\n",
      " 13  hour_7             647 non-null    float64\n",
      " 14  hour_8             647 non-null    float64\n",
      " 15  hour_9             647 non-null    float64\n",
      " 16  hour_10            647 non-null    float64\n",
      " 17  hour_11            647 non-null    float64\n",
      " 18  hour_12            647 non-null    float64\n",
      " 19  hour_13            647 non-null    float64\n",
      " 20  hour_14            647 non-null    float64\n",
      " 21  hour_15            647 non-null    float64\n",
      " 22  hour_16            647 non-null    float64\n",
      " 23  hour_17            647 non-null    float64\n",
      " 24  hour_18            647 non-null    float64\n",
      " 25  hour_19            647 non-null    float64\n",
      " 26  hour_20            647 non-null    float64\n",
      " 27  hour_21            647 non-null    float64\n",
      " 28  hour_22            647 non-null    float64\n",
      " 29  hour_23            647 non-null    float64\n",
      "dtypes: float64(30)\n",
      "memory usage: 151.8 KB\n",
      "None\n"
     ]
    }
   ],
   "source": [
    "df = read_sql_table(\"gold_cpw\")\n",
    "\n",
    "###Variable manipulation\n",
    "# Convert HourDK to datetime if it's not already in datetime format\n",
    "df['hour_utc'] = pd.to_datetime(df['hour_utc'])\n",
    "\n",
    "# Extract the hour from the HourDK column\n",
    "df['hour'] = df['hour_utc'].dt.hour\n",
    "\n",
    "#Subsetting variables\n",
    "df = df[['hour', 'consumption_kwh', 'spot_price_dkk', 'temp_mean_past1h', 'wind_speed_past1h',\n",
    "    'humidity_past1h', 'precip_past1h']]\n",
    "\n",
    "#Converting spot price to float64\n",
    "df['spot_price_dkk'] = df['spot_price_dkk'].astype('float64')\n",
    "\n",
    "#Dummy encoding 'hour'\n",
    "hour_dummies = pd.get_dummies(df['hour'], prefix='hour').astype('float64')\n",
    "\n",
    "#Concatenate this with original dataframe\n",
    "df = pd.concat([df, hour_dummies], axis=1)\n",
    "\n",
    "#Drop hour\n",
    "df = df.drop('hour', axis=1)\n",
    "\n",
    "#print(df.head().to_string(), \"\\n\")\n",
    "print(df.info())"
   ]
  },
  {
   "cell_type": "code",
   "execution_count": 155,
   "metadata": {},
   "outputs": [
    {
     "name": "stdout",
     "output_type": "stream",
     "text": [
      "consumption_kwh      False\n",
      "spot_price_dkk       False\n",
      "temp_mean_past1h     False\n",
      "wind_speed_past1h    False\n",
      "humidity_past1h      False\n",
      "precip_past1h        False\n",
      "hour_0               False\n",
      "hour_1               False\n",
      "hour_2               False\n",
      "hour_3               False\n",
      "hour_4               False\n",
      "hour_5               False\n",
      "hour_6               False\n",
      "hour_7               False\n",
      "hour_8               False\n",
      "hour_9               False\n",
      "hour_10              False\n",
      "hour_11              False\n",
      "hour_12              False\n",
      "hour_13              False\n",
      "hour_14              False\n",
      "hour_15              False\n",
      "hour_16              False\n",
      "hour_17              False\n",
      "hour_18              False\n",
      "hour_19              False\n",
      "hour_20              False\n",
      "hour_21              False\n",
      "hour_22              False\n",
      "hour_23              False\n",
      "dtype: bool\n"
     ]
    }
   ],
   "source": [
    "##Checking for missing values\n",
    "print(df.isna().any())\n",
    "#No missing values"
   ]
  },
  {
   "cell_type": "code",
   "execution_count": 169,
   "metadata": {},
   "outputs": [
    {
     "name": "stdout",
     "output_type": "stream",
     "text": [
      "     consumption_kwh\n",
      "0         143408.914\n",
      "1         136154.493\n",
      "2         130648.111\n",
      "3         126554.756\n",
      "4         131530.892\n",
      "..               ...\n",
      "642       187155.927\n",
      "643       167505.560\n",
      "644       157276.047\n",
      "645       151904.994\n",
      "646       134374.880\n",
      "\n",
      "[647 rows x 1 columns]\n"
     ]
    }
   ],
   "source": [
    "##Splitting dataset\n",
    "X = df.drop('consumption_kwh', axis=1)\n",
    "y = df[['consumption_kwh']]\n",
    "X_train, X_test, y_train, y_test = train_test_split(X, y, test_size=0.2, random_state=123)\n",
    "#print(y_train)"
   ]
  },
  {
   "cell_type": "code",
   "execution_count": 167,
   "metadata": {},
   "outputs": [
    {
     "name": "stdout",
     "output_type": "stream",
     "text": [
      "                            OLS Regression Results                            \n",
      "==============================================================================\n",
      "Dep. Variable:        consumption_kwh   R-squared:                       0.410\n",
      "Model:                            OLS   Adj. R-squared:                  0.376\n",
      "Method:                 Least Squares   F-statistic:                     12.09\n",
      "Date:                Wed, 15 May 2024   Prob (F-statistic):           3.56e-40\n",
      "Time:                        17:29:30   Log-Likelihood:                -6306.6\n",
      "No. Observations:                 517   AIC:                         1.267e+04\n",
      "Df Residuals:                     488   BIC:                         1.279e+04\n",
      "Df Model:                          28                                         \n",
      "Covariance Type:            nonrobust                                         \n",
      "=====================================================================================\n",
      "                        coef    std err          t      P>|t|      [0.025      0.975]\n",
      "-------------------------------------------------------------------------------------\n",
      "const              1.966e+05   2.57e+04      7.663      0.000    1.46e+05    2.47e+05\n",
      "spot_price_dkk      -48.0365     17.864     -2.689      0.007     -83.136     -12.937\n",
      "temp_mean_past1h  -7873.3077    859.566     -9.160      0.000   -9562.215   -6184.401\n",
      "wind_speed_past1h  6560.0689   1857.109      3.532      0.000    2911.153    1.02e+04\n",
      "humidity_past1h     327.9339    251.863      1.302      0.194    -166.936     822.804\n",
      "precip_past1h      2.316e+04   1.53e+04      1.512      0.131   -6942.546    5.33e+04\n",
      "hour_0            -2.393e+04   1.03e+04     -2.326      0.020   -4.41e+04   -3713.721\n",
      "hour_1             -2.51e+04   1.02e+04     -2.469      0.014   -4.51e+04   -5126.188\n",
      "hour_2            -3.679e+04   1.06e+04     -3.465      0.001   -5.77e+04   -1.59e+04\n",
      "hour_3            -2.882e+04   1.05e+04     -2.753      0.006   -4.94e+04   -8252.359\n",
      "hour_4            -4.033e+04   1.01e+04     -4.003      0.000   -6.01e+04   -2.05e+04\n",
      "hour_5            -3.189e+04   1.03e+04     -3.103      0.002   -5.21e+04   -1.17e+04\n",
      "hour_6            -1.294e+04   1.12e+04     -1.160      0.246   -3.48e+04    8970.170\n",
      "hour_7              290.8105   1.14e+04      0.025      0.980   -2.22e+04    2.28e+04\n",
      "hour_8             1.868e+04   1.06e+04      1.768      0.078   -2082.964    3.94e+04\n",
      "hour_9             5.053e+04    1.1e+04      4.609      0.000     2.9e+04    7.21e+04\n",
      "hour_10            6.525e+04   1.09e+04      5.975      0.000    4.38e+04    8.67e+04\n",
      "hour_11            6.912e+04    1.1e+04      6.261      0.000    4.74e+04    9.08e+04\n",
      "hour_12            6.429e+04   1.11e+04      5.818      0.000    4.26e+04     8.6e+04\n",
      "hour_13            6.027e+04   1.07e+04      5.654      0.000    3.93e+04    8.12e+04\n",
      "hour_14            2.153e+04    1.1e+04      1.956      0.051    -101.704    4.32e+04\n",
      "hour_15            2.867e+04   1.01e+04      2.831      0.005    8773.649    4.86e+04\n",
      "hour_16             3.45e+04    1.1e+04      3.139      0.002    1.29e+04    5.61e+04\n",
      "hour_17            4.736e+04   1.07e+04      4.430      0.000    2.64e+04    6.84e+04\n",
      "hour_18            3.267e+04   1.24e+04      2.637      0.009    8322.131     5.7e+04\n",
      "hour_19             1.36e+04   1.08e+04      1.254      0.210   -7710.424    3.49e+04\n",
      "hour_20           -1.551e+04   1.11e+04     -1.393      0.164   -3.74e+04    6361.854\n",
      "hour_21           -2.255e+04   1.02e+04     -2.201      0.028   -4.27e+04   -2416.733\n",
      "hour_22           -3.486e+04   1.09e+04     -3.202      0.001   -5.63e+04   -1.35e+04\n",
      "hour_23           -3.742e+04   1.05e+04     -3.580      0.000    -5.8e+04   -1.69e+04\n",
      "==============================================================================\n",
      "Omnibus:                      174.696   Durbin-Watson:                   1.963\n",
      "Prob(Omnibus):                  0.000   Jarque-Bera (JB):              637.340\n",
      "Skew:                           1.531   Prob(JB):                    4.01e-139\n",
      "Kurtosis:                       7.495   Cond. No.                     7.96e+18\n",
      "==============================================================================\n",
      "\n",
      "Notes:\n",
      "[1] Standard Errors assume that the covariance matrix of the errors is correctly specified.\n",
      "[2] The smallest eigenvalue is 2.08e-30. This might indicate that there are\n",
      "strong multicollinearity problems or that the design matrix is singular.\n"
     ]
    }
   ],
   "source": [
    "####Linear Regression####\n",
    "##Training and evaluating linear regression model without preprocessing\n",
    "est = sm.OLS(y_train, sm.add_constant(X_train)) #model with constant\n",
    "est_fit = est.fit()\n",
    "print(est_fit.summary()) #All but hour and precip_past1h are significant\n",
    "#In a zero-intercept model, all but precip_past1h and spot_price_dkk are significant\n"
   ]
  },
  {
   "cell_type": "code",
   "execution_count": 158,
   "metadata": {},
   "outputs": [
    {
     "name": "stdout",
     "output_type": "stream",
     "text": [
      "                            OLS Regression Results                            \n",
      "==============================================================================\n",
      "Dep. Variable:        consumption_kwh   R-squared:                       0.410\n",
      "Model:                            OLS   Adj. R-squared:                  0.376\n",
      "Method:                 Least Squares   F-statistic:                     12.09\n",
      "Date:                Wed, 15 May 2024   Prob (F-statistic):           3.56e-40\n",
      "Time:                        17:22:32   Log-Likelihood:                -6306.6\n",
      "No. Observations:                 517   AIC:                         1.267e+04\n",
      "Df Residuals:                     488   BIC:                         1.279e+04\n",
      "Df Model:                          28                                         \n",
      "Covariance Type:            nonrobust                                         \n",
      "==============================================================================\n",
      "                 coef    std err          t      P>|t|      [0.025      0.975]\n",
      "------------------------------------------------------------------------------\n",
      "const       2.006e+05   2174.081     92.264      0.000    1.96e+05    2.05e+05\n",
      "x1         -8284.7201   3080.947     -2.689      0.007   -1.43e+04   -2231.161\n",
      "x2         -2.239e+04   2444.241     -9.160      0.000   -2.72e+04   -1.76e+04\n",
      "x3          1.014e+04   2869.655      3.532      0.000    4498.393    1.58e+04\n",
      "x4          3491.2857   2681.414      1.302      0.194   -1777.255    8759.827\n",
      "x5          3377.5276   2234.379      1.512      0.131   -1012.664    7767.719\n",
      "x6         -6376.2725   2103.237     -3.032      0.003   -1.05e+04   -2243.753\n",
      "x7         -6753.4418   2117.499     -3.189      0.002   -1.09e+04   -2592.902\n",
      "x8         -8838.8592   2124.740     -4.160      0.000    -1.3e+04   -4664.092\n",
      "x9         -7383.7249   2130.226     -3.466      0.001   -1.16e+04   -3198.179\n",
      "x10        -1.015e+04   2116.517     -4.797      0.000   -1.43e+04   -5993.419\n",
      "x11        -8181.5544   2114.394     -3.869      0.000   -1.23e+04   -4027.115\n",
      "x12        -3935.6153   2152.787     -1.828      0.068   -8165.491     294.261\n",
      "x13        -1261.7959   2122.047     -0.595      0.552   -5431.273    2907.681\n",
      "x14         2357.6859   2100.539      1.122      0.262   -1769.531    6484.903\n",
      "x15         8394.4097   2103.856      3.990      0.000    4260.676    1.25e+04\n",
      "x16         1.123e+04   2114.614      5.313      0.000    7079.377    1.54e+04\n",
      "x17         1.198e+04   2157.817      5.552      0.000    7740.484    1.62e+04\n",
      "x18         1.105e+04   2154.910      5.127      0.000    6814.171    1.53e+04\n",
      "x19         1.075e+04   2186.057      4.919      0.000    6458.145     1.5e+04\n",
      "x20         2802.1688   2147.804      1.305      0.193   -1417.915    7022.253\n",
      "x21         4559.3354   2137.072      2.133      0.033     360.336    8758.334\n",
      "x22         5429.1353   2173.646      2.498      0.013    1158.275    9699.995\n",
      "x23         8657.6406   2258.475      3.833      0.000    4220.105    1.31e+04\n",
      "x24         4577.5395   2198.126      2.082      0.038     258.581    8896.498\n",
      "x25         1302.9534   2130.334      0.612      0.541   -2882.806    5488.712\n",
      "x26        -4235.5154   2099.213     -2.018      0.044   -8360.127    -110.904\n",
      "x27        -6092.0839   2083.377     -2.924      0.004   -1.02e+04   -1998.588\n",
      "x28        -8072.3810   2094.643     -3.854      0.000   -1.22e+04   -3956.749\n",
      "x29        -8965.0094   2098.439     -4.272      0.000   -1.31e+04   -4841.919\n",
      "==============================================================================\n",
      "Omnibus:                      174.696   Durbin-Watson:                   1.963\n",
      "Prob(Omnibus):                  0.000   Jarque-Bera (JB):              637.340\n",
      "Skew:                           1.531   Prob(JB):                    4.01e-139\n",
      "Kurtosis:                       7.495   Cond. No.                     1.37e+15\n",
      "==============================================================================\n",
      "\n",
      "Notes:\n",
      "[1] Standard Errors assume that the covariance matrix of the errors is correctly specified.\n",
      "[2] The smallest eigenvalue is 6.17e-28. This might indicate that there are\n",
      "strong multicollinearity problems or that the design matrix is singular.\n"
     ]
    }
   ],
   "source": [
    "#Linear regression with scaling\n",
    "X_train_scale = StandardScaler().fit_transform(X_train)\n",
    "est = sm.OLS(y_train, sm.add_constant(X_train_scale))\n",
    "est_fit = est.fit()\n",
    "print(est_fit.summary())"
   ]
  },
  {
   "cell_type": "code",
   "execution_count": 159,
   "metadata": {},
   "outputs": [
    {
     "name": "stdout",
     "output_type": "stream",
     "text": [
      "52962\n"
     ]
    }
   ],
   "source": [
    "###Prediction accuracy - linear regression\n",
    "X_test_scale = StandardScaler().fit_transform(X_test)\n",
    "y_pred_lm = est_fit.predict(sm.add_constant(X_test_scale))\n",
    "rmse_lm = root_mean_squared_error(y_test, y_pred_lm)\n",
    "print(round(rmse_lm))"
   ]
  },
  {
   "cell_type": "code",
   "execution_count": 160,
   "metadata": {},
   "outputs": [
    {
     "name": "stderr",
     "output_type": "stream",
     "text": [
      "/Users/frederikjacobsen/Repos/au-data-science-project/.venv/lib/python3.9/site-packages/sklearn/base.py:1474: DataConversionWarning: A column-vector y was passed when a 1d array was expected. Please change the shape of y to (n_samples,), for example using ravel().\n",
      "  return fit_method(estimator, *args, **kwargs)\n"
     ]
    },
    {
     "name": "stdout",
     "output_type": "stream",
     "text": [
      "48017\n"
     ]
    }
   ],
   "source": [
    "###Random Forest\n",
    "#Documentation: https://scikit-learn.org/stable/modules/generated/sklearn.ensemble.RandomForestRegressor.html\n",
    "rf_model = RandomForestRegressor(n_estimators = 200, bootstrap=True) #200 trees\n",
    "rf_model.fit(X_train, y_train)\n",
    "y_pred_rf = rf_model.predict(X_test) #Test\n",
    "rmse_rf = root_mean_squared_error(y_test, y_pred_rf)\n",
    "print(round(rmse_rf))"
   ]
  },
  {
   "cell_type": "code",
   "execution_count": 161,
   "metadata": {},
   "outputs": [
    {
     "name": "stderr",
     "output_type": "stream",
     "text": [
      "/Users/frederikjacobsen/Repos/au-data-science-project/.venv/lib/python3.9/site-packages/sklearn/utils/validation.py:1300: DataConversionWarning: A column-vector y was passed when a 1d array was expected. Please change the shape of y to (n_samples, ), for example using ravel().\n",
      "  y = column_or_1d(y, warn=True)\n"
     ]
    },
    {
     "name": "stdout",
     "output_type": "stream",
     "text": [
      "59363\n"
     ]
    }
   ],
   "source": [
    "###Support Vector Machines\n",
    "#Documentation: https://scikit-learn.org/stable/modules/generated/sklearn.svm.SVR.html\n",
    "svm_model = SVR(kernel='linear', C=1000)\n",
    "svm_model.fit(X_train, y_train) #Train\n",
    "y_pred_svm = svm_model.predict(X_test) #Test\n",
    "rmse_svm = root_mean_squared_error(y_test, y_pred_svm) #RMSE\n",
    "print(round(rmse_svm))"
   ]
  },
  {
   "cell_type": "code",
   "execution_count": 162,
   "metadata": {},
   "outputs": [
    {
     "name": "stdout",
     "output_type": "stream",
     "text": [
      "                    Model   RMSE\n",
      "0            Linear Model  52962\n",
      "1          Random Forrest  48017\n",
      "2  Support Vector Machine  59363\n"
     ]
    }
   ],
   "source": [
    "#Comparing models\n",
    "rmse_values = [rmse_lm, rmse_rf, rmse_svm]\n",
    "rmse_data = {'Model': ['Linear Model', 'Random Forrest', 'Support Vector Machine'],\n",
    "            'RMSE': [round(value) for value in rmse_values]\n",
    "    }\n",
    "\n",
    "rmse_df = pd.DataFrame(rmse_data) #Make dataframe of RMSE data\n",
    "\n",
    "print(round(rmse_df))"
   ]
  },
  {
   "cell_type": "markdown",
   "metadata": {},
   "source": [
    "Implementing cross validation on the three models"
   ]
  },
  {
   "cell_type": "code",
   "execution_count": 163,
   "metadata": {},
   "outputs": [
    {
     "name": "stdout",
     "output_type": "stream",
     "text": [
      "Root Mean Squared Error (Cross-validation): 50861\n",
      "Standard Deviation of RMSE (Cross-validation): 9730\n"
     ]
    }
   ],
   "source": [
    "#Linear model CV\n",
    "# Define a pipeline with StandardScaler and LinearRegression\n",
    "pipeline = make_pipeline(StandardScaler(), LinearRegression())\n",
    "\n",
    "# Perform cross-validation\n",
    "rmse_scores_lm = -cross_val_score(pipeline, X_train, y_train, cv=10, scoring='neg_root_mean_squared_error')\n",
    "\n",
    "# Calculate mean and standard deviation of RMSE scores\n",
    "mean_rmse_lm = np.mean(rmse_scores_lm)\n",
    "std_rmse_lm = np.std(rmse_scores_lm)\n",
    "\n",
    "# Print mean squared error from cross-validation\n",
    "print(\"Root Mean Squared Error (Cross-validation):\", round(mean_rmse_lm))\n",
    "print(\"Standard Deviation of RMSE (Cross-validation):\", round(std_rmse_lm))"
   ]
  },
  {
   "cell_type": "code",
   "execution_count": 164,
   "metadata": {},
   "outputs": [
    {
     "name": "stderr",
     "output_type": "stream",
     "text": [
      "/Users/frederikjacobsen/Repos/au-data-science-project/.venv/lib/python3.9/site-packages/sklearn/base.py:1474: DataConversionWarning: A column-vector y was passed when a 1d array was expected. Please change the shape of y to (n_samples,), for example using ravel().\n",
      "  return fit_method(estimator, *args, **kwargs)\n",
      "/Users/frederikjacobsen/Repos/au-data-science-project/.venv/lib/python3.9/site-packages/sklearn/base.py:1474: DataConversionWarning: A column-vector y was passed when a 1d array was expected. Please change the shape of y to (n_samples,), for example using ravel().\n",
      "  return fit_method(estimator, *args, **kwargs)\n",
      "/Users/frederikjacobsen/Repos/au-data-science-project/.venv/lib/python3.9/site-packages/sklearn/base.py:1474: DataConversionWarning: A column-vector y was passed when a 1d array was expected. Please change the shape of y to (n_samples,), for example using ravel().\n",
      "  return fit_method(estimator, *args, **kwargs)\n",
      "/Users/frederikjacobsen/Repos/au-data-science-project/.venv/lib/python3.9/site-packages/sklearn/base.py:1474: DataConversionWarning: A column-vector y was passed when a 1d array was expected. Please change the shape of y to (n_samples,), for example using ravel().\n",
      "  return fit_method(estimator, *args, **kwargs)\n",
      "/Users/frederikjacobsen/Repos/au-data-science-project/.venv/lib/python3.9/site-packages/sklearn/base.py:1474: DataConversionWarning: A column-vector y was passed when a 1d array was expected. Please change the shape of y to (n_samples,), for example using ravel().\n",
      "  return fit_method(estimator, *args, **kwargs)\n",
      "/Users/frederikjacobsen/Repos/au-data-science-project/.venv/lib/python3.9/site-packages/sklearn/base.py:1474: DataConversionWarning: A column-vector y was passed when a 1d array was expected. Please change the shape of y to (n_samples,), for example using ravel().\n",
      "  return fit_method(estimator, *args, **kwargs)\n",
      "/Users/frederikjacobsen/Repos/au-data-science-project/.venv/lib/python3.9/site-packages/sklearn/base.py:1474: DataConversionWarning: A column-vector y was passed when a 1d array was expected. Please change the shape of y to (n_samples,), for example using ravel().\n",
      "  return fit_method(estimator, *args, **kwargs)\n",
      "/Users/frederikjacobsen/Repos/au-data-science-project/.venv/lib/python3.9/site-packages/sklearn/base.py:1474: DataConversionWarning: A column-vector y was passed when a 1d array was expected. Please change the shape of y to (n_samples,), for example using ravel().\n",
      "  return fit_method(estimator, *args, **kwargs)\n",
      "/Users/frederikjacobsen/Repos/au-data-science-project/.venv/lib/python3.9/site-packages/sklearn/base.py:1474: DataConversionWarning: A column-vector y was passed when a 1d array was expected. Please change the shape of y to (n_samples,), for example using ravel().\n",
      "  return fit_method(estimator, *args, **kwargs)\n",
      "/Users/frederikjacobsen/Repos/au-data-science-project/.venv/lib/python3.9/site-packages/sklearn/base.py:1474: DataConversionWarning: A column-vector y was passed when a 1d array was expected. Please change the shape of y to (n_samples,), for example using ravel().\n",
      "  return fit_method(estimator, *args, **kwargs)\n",
      "/Users/frederikjacobsen/Repos/au-data-science-project/.venv/lib/python3.9/site-packages/sklearn/base.py:1474: DataConversionWarning: A column-vector y was passed when a 1d array was expected. Please change the shape of y to (n_samples,), for example using ravel().\n",
      "  return fit_method(estimator, *args, **kwargs)\n"
     ]
    },
    {
     "name": "stdout",
     "output_type": "stream",
     "text": [
      "Root Mean Squared Error (Cross-validation): 52270\n",
      "Standard Deviation of RMSE (Cross-validation): 20524\n",
      "Root Mean Squared Error (Test set): 48321\n"
     ]
    }
   ],
   "source": [
    "#Random forest CV\n",
    "rf_model = RandomForestRegressor(n_estimators=200, bootstrap=True)\n",
    "\n",
    "#Cross-validation\n",
    "rmse_scores_rf = -cross_val_score(rf_model, X, y, cv=10, scoring='neg_root_mean_squared_error')\n",
    "\n",
    "# Calculate mean and standard deviation of RMSE scores\n",
    "mean_rmse_rf = np.mean(rmse_scores_rf)\n",
    "std_rmse_rf = np.std(rmse_scores_rf)\n",
    "\n",
    "# Train model on full training data\n",
    "rf_model.fit(X_train, y_train)\n",
    "\n",
    "# Make predictions on the test set\n",
    "y_pred_rf = rf_model.predict(X_test)\n",
    "\n",
    "# Calculate rmse on the test set\n",
    "rmse_rf = root_mean_squared_error(y_test, y_pred_rf)\n",
    "\n",
    "# Print rmse from cv and on test set\n",
    "print(\"Root Mean Squared Error (Cross-validation):\", round(mean_rmse_rf))\n",
    "print(\"Standard Deviation of RMSE (Cross-validation):\", round(std_rmse_rf)) #Large variation in rmse scores.\n",
    "#Suggests that the splits from the small dataset has large influence on performance.\n",
    "print(\"Root Mean Squared Error (Test set):\", round(rmse_rf))"
   ]
  },
  {
   "cell_type": "code",
   "execution_count": 165,
   "metadata": {},
   "outputs": [
    {
     "name": "stderr",
     "output_type": "stream",
     "text": [
      "/Users/frederikjacobsen/Repos/au-data-science-project/.venv/lib/python3.9/site-packages/sklearn/utils/validation.py:1300: DataConversionWarning: A column-vector y was passed when a 1d array was expected. Please change the shape of y to (n_samples, ), for example using ravel().\n",
      "  y = column_or_1d(y, warn=True)\n",
      "/Users/frederikjacobsen/Repos/au-data-science-project/.venv/lib/python3.9/site-packages/sklearn/utils/validation.py:1300: DataConversionWarning: A column-vector y was passed when a 1d array was expected. Please change the shape of y to (n_samples, ), for example using ravel().\n",
      "  y = column_or_1d(y, warn=True)\n",
      "/Users/frederikjacobsen/Repos/au-data-science-project/.venv/lib/python3.9/site-packages/sklearn/utils/validation.py:1300: DataConversionWarning: A column-vector y was passed when a 1d array was expected. Please change the shape of y to (n_samples, ), for example using ravel().\n",
      "  y = column_or_1d(y, warn=True)\n",
      "/Users/frederikjacobsen/Repos/au-data-science-project/.venv/lib/python3.9/site-packages/sklearn/utils/validation.py:1300: DataConversionWarning: A column-vector y was passed when a 1d array was expected. Please change the shape of y to (n_samples, ), for example using ravel().\n",
      "  y = column_or_1d(y, warn=True)\n",
      "/Users/frederikjacobsen/Repos/au-data-science-project/.venv/lib/python3.9/site-packages/sklearn/utils/validation.py:1300: DataConversionWarning: A column-vector y was passed when a 1d array was expected. Please change the shape of y to (n_samples, ), for example using ravel().\n",
      "  y = column_or_1d(y, warn=True)\n",
      "/Users/frederikjacobsen/Repos/au-data-science-project/.venv/lib/python3.9/site-packages/sklearn/utils/validation.py:1300: DataConversionWarning: A column-vector y was passed when a 1d array was expected. Please change the shape of y to (n_samples, ), for example using ravel().\n",
      "  y = column_or_1d(y, warn=True)\n",
      "/Users/frederikjacobsen/Repos/au-data-science-project/.venv/lib/python3.9/site-packages/sklearn/utils/validation.py:1300: DataConversionWarning: A column-vector y was passed when a 1d array was expected. Please change the shape of y to (n_samples, ), for example using ravel().\n",
      "  y = column_or_1d(y, warn=True)\n",
      "/Users/frederikjacobsen/Repos/au-data-science-project/.venv/lib/python3.9/site-packages/sklearn/utils/validation.py:1300: DataConversionWarning: A column-vector y was passed when a 1d array was expected. Please change the shape of y to (n_samples, ), for example using ravel().\n",
      "  y = column_or_1d(y, warn=True)\n",
      "/Users/frederikjacobsen/Repos/au-data-science-project/.venv/lib/python3.9/site-packages/sklearn/utils/validation.py:1300: DataConversionWarning: A column-vector y was passed when a 1d array was expected. Please change the shape of y to (n_samples, ), for example using ravel().\n",
      "  y = column_or_1d(y, warn=True)\n",
      "/Users/frederikjacobsen/Repos/au-data-science-project/.venv/lib/python3.9/site-packages/sklearn/utils/validation.py:1300: DataConversionWarning: A column-vector y was passed when a 1d array was expected. Please change the shape of y to (n_samples, ), for example using ravel().\n",
      "  y = column_or_1d(y, warn=True)\n"
     ]
    },
    {
     "name": "stdout",
     "output_type": "stream",
     "text": [
      "Root Mean Squared Error (Cross-validation): 58424\n",
      "Standard Deviation of RMSE (Cross-validation): 26623\n"
     ]
    }
   ],
   "source": [
    "#Support Vector Machines CV\n",
    "svm_model = SVR(C=1000)\n",
    "\n",
    "#CV\n",
    "rmse_scores_svm = -cross_val_score(svm_model, X, y, cv=10, scoring='neg_root_mean_squared_error')\n",
    "\n",
    "# Calculate mean and standard deviation of RMSE scores\n",
    "mean_rmse_svm = np.mean(rmse_scores_svm)\n",
    "std_rmse_svm = np.std(rmse_scores_svm)\n",
    "\n",
    "print(\"Root Mean Squared Error (Cross-validation):\", round(mean_rmse_svm))\n",
    "print(\"Standard Deviation of RMSE (Cross-validation):\", round(std_rmse_svm))"
   ]
  },
  {
   "cell_type": "code",
   "execution_count": 166,
   "metadata": {},
   "outputs": [
    {
     "name": "stdout",
     "output_type": "stream",
     "text": [
      "                 CV Model  Mean RMSE    Std\n",
      "0            Linear Model      50861   9730\n",
      "1          Random Forrest      52270  20524\n",
      "2  Support Vector Machine      58424  26623\n"
     ]
    }
   ],
   "source": [
    "#Comparing CV models\n",
    "mean_rmse_values = [mean_rmse_lm, mean_rmse_rf, mean_rmse_svm]\n",
    "mean_std_values = [std_rmse_lm, std_rmse_rf, std_rmse_svm]\n",
    "rmse_data = {'CV Model': ['Linear Model', 'Random Forrest', 'Support Vector Machine'],\n",
    "            'Mean RMSE': [round(value) for value in mean_rmse_values],\n",
    "            'Std': [round(value) for value in mean_std_values]\n",
    "        }\n",
    "\n",
    "rmse_df = pd.DataFrame(rmse_data) #Make dataframe of RMSE and std data\n",
    "\n",
    "print(rmse_df)"
   ]
  }
 ],
 "metadata": {
  "kernelspec": {
   "display_name": ".venv",
   "language": "python",
   "name": "python3"
  },
  "language_info": {
   "codemirror_mode": {
    "name": "ipython",
    "version": 3
   },
   "file_extension": ".py",
   "mimetype": "text/x-python",
   "name": "python",
   "nbconvert_exporter": "python",
   "pygments_lexer": "ipython3",
   "version": "3.9.12"
  },
  "orig_nbformat": 4
 },
 "nbformat": 4,
 "nbformat_minor": 2
}
