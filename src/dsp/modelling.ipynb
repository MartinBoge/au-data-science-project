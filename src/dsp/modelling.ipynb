{
 "cells": [
  {
   "cell_type": "code",
   "execution_count": 63,
   "metadata": {},
   "outputs": [],
   "source": [
    "#Libraries\n",
    "import pandas as pd\n",
    "import numpy as np\n",
    "from etl.utils import read_sql_table\n",
    "from sklearn.model_selection import train_test_split\n",
    "from sklearn.linear_model import LinearRegression\n",
    "from sklearn.ensemble import RandomForestRegressor\n",
    "from sklearn.svm import SVR\n",
    "from sklearn.metrics import mean_squared_error\n",
    "from sklearn.preprocessing import StandardScaler\n",
    "import statsmodels.api as sm"
   ]
  },
  {
   "cell_type": "code",
   "execution_count": null,
   "metadata": {},
   "outputs": [],
   "source": [
    "df = read_sql_table(\"gold_cpw\")\n",
    "\n",
    "###Variable manipulation\n",
    "# Convert HourDK to datetime if it's not already in datetime format\n",
    "df['hour_utc'] = pd.to_datetime(df['hour_utc'])\n",
    "\n",
    "# Extract the hour from the HourDK column\n",
    "df['hour'] = df['hour_utc'].dt.hour\n",
    "\n",
    "#Subsetting variables\n",
    "df = df[['hour', 'consumption_kwh', 'spot_price_dkk', 'temp_mean_past1h', 'wind_speed_past1h',\n",
    "    'humidity_past1h', 'precip_past1h']]\n",
    "#Converting variables to float64\n",
    "df['hour'] = df['hour'].astype('float64')\n",
    "df['spot_price_dkk'] = df['spot_price_dkk'].astype('float64')\n",
    "\n",
    "print(df.head().to_string(), \"\\n\")\n",
    "print(df.info())"
   ]
  },
  {
   "cell_type": "code",
   "execution_count": null,
   "metadata": {},
   "outputs": [],
   "source": [
    "##Checking for missing values\n",
    "print(df.isna().any())\n",
    "#No missing values"
   ]
  },
  {
   "cell_type": "code",
   "execution_count": null,
   "metadata": {},
   "outputs": [],
   "source": [
    "##Splitting dataset\n",
    "X = df[['hour', 'spot_price_dkk', 'temp_mean_past1h', 'wind_speed_past1h', 'humidity_past1h', 'precip_past1h']]\n",
    "y = df[['consumption_kwh']]\n",
    "X_train, X_test, y_train, y_test = train_test_split(X, y, test_size=0.2, random_state=123)\n",
    "print(X_train)"
   ]
  },
  {
   "cell_type": "code",
   "execution_count": null,
   "metadata": {},
   "outputs": [],
   "source": [
    "####Linear Regression####\n",
    "##Training and evaluating linear regression model without preprocessing\n",
    "est = sm.OLS(y_train, sm.add_constant(X_train)) #model with constant\n",
    "est_fit = est.fit()\n",
    "print(est_fit.summary()) #All but hour and precip_past1h are significant\n",
    "#In a zero-intercept model, all but precip_past1h and spot_price_dkk are significant\n"
   ]
  },
  {
   "cell_type": "code",
   "execution_count": null,
   "metadata": {},
   "outputs": [],
   "source": [
    "#Linear regression with scaling\n",
    "X_train_scale = StandardScaler().fit_transform(X_train)\n",
    "est = sm.OLS(y_train, sm.add_constant(X_train_scale))\n",
    "est_fit = est.fit()\n",
    "print(est_fit.summary())\n",
    "#Conclude on variable importance based on coefficients..."
   ]
  },
  {
   "cell_type": "code",
   "execution_count": 70,
   "metadata": {},
   "outputs": [
    {
     "name": "stdout",
     "output_type": "stream",
     "text": [
      "3498841479\n"
     ]
    }
   ],
   "source": [
    "###Prediction accuracy - linear regression\n",
    "X_test_scale = StandardScaler().fit_transform(X_test)\n",
    "y_pred_lm = est_fit.predict(sm.add_constant(X_test_scale))\n",
    "mse_lm = mean_squared_error(y_test, y_pred_lm)\n",
    "print(round(mse_lm)) #3,498,841,479"
   ]
  },
  {
   "cell_type": "code",
   "execution_count": 64,
   "metadata": {},
   "outputs": [
    {
     "name": "stderr",
     "output_type": "stream",
     "text": [
      "/Users/frederikjacobsen/Repos/au-data-science-project/.venv/lib/python3.9/site-packages/sklearn/base.py:1474: DataConversionWarning: A column-vector y was passed when a 1d array was expected. Please change the shape of y to (n_samples,), for example using ravel().\n",
      "  return fit_method(estimator, *args, **kwargs)\n"
     ]
    },
    {
     "name": "stdout",
     "output_type": "stream",
     "text": [
      "1581182860\n"
     ]
    }
   ],
   "source": [
    "###Random Forest\n",
    "rf_model = RandomForestRegressor()\n",
    "rf_model.fit(X_train, y_train) #Train model\n",
    "y_pred_rf = rf_model.predict(X_test) #Test\n",
    "mse_rf = mean_squared_error(y_test, y_pred_rf)\n",
    "print(round(mse_rf)) #1,581,182,860\n",
    "#Performs significantly better than lm\n"
   ]
  },
  {
   "cell_type": "code",
   "execution_count": 74,
   "metadata": {},
   "outputs": [
    {
     "name": "stdout",
     "output_type": "stream",
     "text": [
      "3906756583\n"
     ]
    },
    {
     "name": "stderr",
     "output_type": "stream",
     "text": [
      "/Users/frederikjacobsen/Repos/au-data-science-project/.venv/lib/python3.9/site-packages/sklearn/utils/validation.py:1300: DataConversionWarning: A column-vector y was passed when a 1d array was expected. Please change the shape of y to (n_samples, ), for example using ravel().\n",
      "  y = column_or_1d(y, warn=True)\n"
     ]
    }
   ],
   "source": [
    "###Support Vector Machines\n",
    "svc_model = SVR()\n",
    "svc_model.fit(X_train, y_train) #Train\n",
    "y_pred_svc = svc_model.predict(X_test) #Test\n",
    "mse_svc = mean_squared_error(y_test, y_pred_svc) #MSE\n",
    "print(round(mse_svc)) #3,906,756,583"
   ]
  },
  {
   "cell_type": "code",
   "execution_count": 77,
   "metadata": {},
   "outputs": [
    {
     "name": "stdout",
     "output_type": "stream",
     "text": [
      "                    Model           MSE\n",
      "0            Linear Model  3.498841e+09\n",
      "1          Random Forrest  1.581183e+09\n",
      "2  Support Vector Machine  3.906757e+09\n"
     ]
    }
   ],
   "source": [
    "#Comparing models\n",
    "mse_data = {'Model': ['Linear Model', 'Random Forrest', 'Support Vector Machine'],\n",
    "            'MSE': [mse_lm, mse_rf, mse_svc]\n",
    "    }\n",
    "\n",
    "mse_df = pd.DataFrame(mse_data) #Make dataframe of MSE data\n",
    "\n",
    "print(mse_df)\n"
   ]
  }
 ],
 "metadata": {
  "kernelspec": {
   "display_name": ".venv",
   "language": "python",
   "name": "python3"
  },
  "language_info": {
   "codemirror_mode": {
    "name": "ipython",
    "version": 3
   },
   "file_extension": ".py",
   "mimetype": "text/x-python",
   "name": "python",
   "nbconvert_exporter": "python",
   "pygments_lexer": "ipython3",
   "version": "3.9.12"
  },
  "orig_nbformat": 4
 },
 "nbformat": 4,
 "nbformat_minor": 2
}
